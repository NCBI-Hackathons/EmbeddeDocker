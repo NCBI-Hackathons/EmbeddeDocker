{
 "cells": [
  {
   "cell_type": "markdown",
   "metadata": {},
   "source": [
    "# The Notebook -  by GATK-Spark "
   ]
  },
  {
   "cell_type": "markdown",
   "metadata": {},
   "source": [
    "## Motivation\n",
    "\n",
    "We demonstrate how by embedding Docker containers, we can distribute Jupyter notebooks that can run complicated workflows on the cloud interactively.\n",
    "\n",
    "The example is a GATK variant calling pipeline that is run in a distributed manner using Spark on an auto-generated AWS kubernetes cluster\n"
   ]
  },
  {
   "cell_type": "markdown",
   "metadata": {},
   "source": [
    "### Download the fastq input files \n",
    "\n",
    "##### This step will take approximately 30 minutes, depending on your bandwidth.\n",
    "\n",
    " \n",
    "\n",
    "The fastq files are publicly available with the following links:\n",
    "https://trace.ncbi.nlm.nih.gov/Traces/sra/?run=SRR493366\n",
    "https://trace.ncbi.nlm.nih.gov/Traces/sra/?run=SRR493367\n",
    "https://trace.ncbi.nlm.nih.gov/Traces/sra/?run=SRR493368\n",
    "https://trace.ncbi.nlm.nih.gov/Traces/sra/?run=SRR493369\n",
    "https://trace.ncbi.nlm.nih.gov/Traces/sra/?run=SRR493370\n",
    "https://trace.ncbi.nlm.nih.gov/Traces/sra/?run=SRR493371\n",
    "\n",
    "To download the files we can use the parallel-fastq-dump container. This is a python wrapper around the fastq-dump utility that allows it to download separate chunks of the files separately.\n",
    "\n",
    "```bash\n",
    "\n",
    "docker run --rm -i -v /.nbdocker:/data biodepot/alpine-tools bash -c 'mkdir /data/fastq && cd /data/fastq && \\\n",
    "wget ftp://ftp.1000genomes.ebi.ac.uk/vol1/ftp/phase3/data/HG00100/sequence_read/ERR013140_1.filt.fastq.gz && \\\n",
    "wget ftp://ftp.1000genomes.ebi.ac.uk/vol1/ftp/phase3/data/HG00100/sequence_read/ERR013140_2.filt.fastq.gz'\n",
    "```\n",
    "\n",
    "{nbdocker#0}"
   ]
  },
  {
   "cell_type": "markdown",
   "metadata": {},
   "source": [
    "### Download the reference and create the indices\n",
    "##### Running two containers will take approximately 10 minutes.\n",
    "\n",
    "We download the reference and generate the indices for bwa\n",
    "\n",
    "Download the reference human transcriptome:\n",
    "```bash\n",
    "docker run --rm -i -v /.nbdocker:/data biodepot/alpine-tools bash -c 'mkdir -p /data/reference && wget -qO- 'ftp://ftp.ncbi.nlm.nih.gov/refseq/H_sapiens/annotation/GRCh38_latest/refseq_identifiers/GRCh38_latest_genomic.fna.gz' | gunzip -c > /data/reference/GCh38.fa\n",
    "```\n",
    "{nbdocker#1}\n",
    "\n",
    "Build indices using bwa:\n",
    "\n",
    "```bash\n",
    "docker run --rm -i -v  /.nbdocker:/data biodepot/alpine-bwa:3.7-0.7.15 bash -c 'cd /data/reference && bwa index  GCh38.fa'\n",
    "\n",
    "```\n",
    "{nbdocker#2}\n",
    "\n"
   ]
  },
  {
   "cell_type": "markdown",
   "metadata": {},
   "source": [
    "## Alignment using bwa-mem to create bamfiles\n",
    "\n",
    "##### Running alignment for each fastq input file will take approximately 30 minutes.  There are a total of 6 of these jobs to run. So, a total of ~36 minutes.\n",
    "\n",
    "```bash\n",
    "docker run --rm -i -e NTHREADS='3'\\\n",
    " -e file1='/data/fastq/ERR013140_1.fastq.gz' \\\n",
    " -e file2='/data/fastq/ERR013140_2.fastq.gz' \\\n",
    " -e bamfile='/data/gatk/bams/ERR013140.bam'  \\\n",
    " -e genomeFile='/data/reference/GCh38.fa' \\\n",
    " -v /.nbdocker:/data biodepot/alpine-bwa-samtools:3.7-0.7.15-1.9-52-g651bf14 \\\n",
    " bash -c 'mkdir -p /data/gatk/bams && bwa mem -t $NTHREADS \\\n",
    " $genomFile ${file1}.fastq ${file2}.fastq | samtools sort -@${NTHREADS} -o $bamfile - '\n",
    "```\n",
    "\n",
    "{nbdocker#3}\n",
    "\n",
    "\n",
    "Results will be in: /home/jovyan/work/kallisto/\n"
   ]
  },
  {
   "cell_type": "markdown",
   "metadata": {},
   "source": [
    "## GATK (non-Spark steps)\n",
    "\n",
    "Not all the components of GATK use Spark\n",
    "\n",
    "\n",
    "```\n",
    "\n",
    "docker run --rm -i -v /.nbdocker:/data  \\\n",
    "-e bamfile:'/data/bams/ERR013140.bam' \\\n",
    "-e reference:'ref/ref.fasta' \\\n",
    "-e outputFile: '/data/variants/variants.vcf'\\\n",
    "\n",
    "broadinstitute/gatk:4.0.5.1 \\\n",
    "\n",
    "/bin/bash -c 'mkdir -p /data/variants && \\\n",
    "              cd /gatk/gatk_data/germline && \\\n",
    "              gatk HaplotypeCaller -R $reference -I $bamfile -O $outputFile '\n",
    "            \n",
    "```\n",
    "\n",
    "{nbdocker#4}\n",
    "```\n",
    "\n",
    "docker run --rm -i -v ./nbdocker/:/data \\\n",
    "-e bamfile:'/data/bams/ERR013140.bam' \\\n",
    "\n",
    "broadinstitute/gatk:4.0.5.1 \\\n",
    "\n",
    "/bin/bash -c 'gatk ValidateSamFile -I $bamfile -MODE SUMMARY'\n",
    "\n",
    "```\n",
    "\n",
    "{nbdocker#5}\n"
   ]
  },
  {
   "cell_type": "markdown",
   "metadata": {},
   "source": [
    "## GATK (Spark steps)\n",
    "##### About 1 minute\n",
    "\n",
    "```\n",
    "docker run --rm -i -v /.nbdocker/:/home/ubuntu/gatk_data \\   \n",
    "-e reference='ref.fasta' \\\n",
    "-e bamfile='/data/bams/ERR013140.bam' \\\n",
    "-e dedupFile: '/data/bams/ERR013140_dedup.bam ' \\\n",
    "-e metricsFile: '/data/bams/metrics.txt' \\\n",
    "broadinstitute/gatk:4.0.5.1 \\\n",
    "/bin/bash -c ' gatk --java-options \"-Xmx6G\" MarkDuplicatesSpark \\\n",
    "-R $reference \\\n",
    "-I $bamfile \\\n",
    "-O $dedupFile \\\n",
    "-M $metricsFile \\\n",
    "-- \\\n",
    "--spark-master local[*]'\n",
    "\n",
    "```\n",
    "\n",
    "{nbdocker#6}\n",
    "\n",
    "\n"
   ]
  },
  {
   "cell_type": "markdown",
   "metadata": {},
   "source": [
    "## Visualization steps\n",
    "\n",
    "Something something the force..."
   ]
  },
  {
   "cell_type": "code",
   "execution_count": null,
   "metadata": {},
   "outputs": [],
   "source": []
  },
  {
   "cell_type": "code",
   "execution_count": null,
   "metadata": {},
   "outputs": [],
   "source": []
  }
 ],
 "metadata": {
  "cmd_history": [
   {
    "Id": 0,
    "command": "bash -c 'parallel-fastq-dump --sra-id SRR493366 SRR493367 SRR493368 SRR493369 SRR493370 SRR493371 --threads 16 --outdir /.nbdocker/kallisto/output --split-files --gzip'",
    "container": "",
    "external": "",
    "host": "",
    "image": "biodepot/parallel-fastq-dump:latest",
    "internal": "",
    "notebookname": "kallisto-sleuth-ky2"
   },
   {
    "Id": 1,
    "command": "bash -c ' mkdir -p /.nbdocker/kallisto/annotation && curl -o /.nbdocker/kallisto/annotation/human_trans.fa.gz http://ftp.ensembl.org/pub/release-77/fasta/homo_sapiens/cdna/Homo_sapiens.GRCh38.cdna.all.fa.gz'",
    "container": "",
    "external": "",
    "host": "",
    "image": "biodepot/alpine-utils:latest",
    "internal": "",
    "notebookname": "kallisto-sleuth-ky2"
   },
   {
    "Id": 2,
    "command": "bash -c 'kallisto index -i /.nbdocker/kallisto/annotation/human_trans.kidx /.nbdocker/kallisto/annotation/human_trans.fa.gz'",
    "container": "",
    "external": "",
    "host": "",
    "image": "biodepot/kallisto:latest",
    "internal": "",
    "notebookname": "kallisto-sleuth-ky2"
   },
   {
    "Id": 3,
    "command": "kallisto quant -i /.nbdocker/kallisto/annotation/human_trans.kidx -b 30 --bias -t 8 -o /.nbdocker/kallisto/SRR493366 /.nbdocker/kallisto/output/SRR493366_1.fastq.gz /.nbdocker/kallisto/output/SRR493366_2.fastq.gz ",
    "container": "",
    "external": "",
    "host": "",
    "image": "biodepot/kallisto:latest",
    "internal": "",
    "notebookname": "kallisto-sleuth-ky2"
   },
   {
    "Id": 4,
    "command": "kallisto quant -i /.nbdocker/kallisto/annotation/human_trans.kidx -b 30 --bias -t 8 -o /.nbdocker/kallisto/SRR493367 /.nbdocker/kallisto/output/SRR493367_1.fastq.gz /.nbdocker/kallisto/output/SRR493367_2.fastq.gz ",
    "container": "",
    "external": "",
    "host": "",
    "image": "biodepot/kallisto:latest",
    "internal": "",
    "notebookname": "kallisto-sleuth-ky2"
   },
   {
    "Id": 5,
    "command": "kallisto quant -i /.nbdocker/kallisto/annotation/human_trans.kidx -b 30 --bias -t 8 -o /.nbdocker/kallisto/SRR493368 /.nbdocker/kallisto/output/SRR493368_1.fastq.gz /.nbdocker/kallisto/output/SRR493368_2.fastq.gz ",
    "container": "",
    "external": "",
    "host": "",
    "image": "biodepot/kallisto:latest",
    "internal": "",
    "notebookname": "kallisto-sleuth-ky2"
   },
   {
    "Id": 6,
    "command": "kallisto quant -i /.nbdocker/kallisto/annotation/human_trans.kidx -b 30 --bias -t 8 -o /.nbdocker/kallisto/SRR493369 /.nbdocker/kallisto/output/SRR493369_1.fastq.gz /.nbdocker/kallisto/output/SRR493369_2.fastq.gz ",
    "container": "",
    "external": "",
    "host": "",
    "image": "biodepot/kallisto:latest",
    "internal": "",
    "notebookname": "kallisto-sleuth-ky2"
   },
   {
    "Id": 7,
    "command": "kallisto quant -i /.nbdocker/kallisto/annotation/human_trans.kidx -b 30 --bias -t 8 -o /.nbdocker/kallisto/SRR493370 /.nbdocker/kallisto/output/SRR493370_1.fastq.gz /.nbdocker/kallisto/output/SRR493370_2.fastq.gz ",
    "container": "",
    "external": "",
    "host": "",
    "image": "biodepot/kallisto:latest",
    "internal": "",
    "notebookname": "kallisto-sleuth-ky2"
   },
   {
    "Id": 8,
    "command": "kallisto quant -i /.nbdocker/kallisto/annotation/human_trans.kidx -b 30 --bias -t 8 -o /.nbdocker/kallisto/SRR493371 /.nbdocker/kallisto/output/SRR493371_1.fastq.gz /.nbdocker/kallisto/output/SRR493371_2.fastq.gz ",
    "container": "",
    "external": "",
    "host": "",
    "image": "biodepot/kallisto:latest",
    "internal": "",
    "notebookname": "kallisto-sleuth-ky2"
   },
   {
    "Id": 9,
    "command": "kallisto quant -i /.nbdocker/kallisto/annotation/human_trans.kidx -b 30 --bias -t 8 -o /.nbdocker/kallisto/SRR493367 /.nbdocker/kallisto/output/SRR493367_1.fastq.gz /.nbdocker/kallisto/output/SRR493367_2.fastq.gz ",
    "container": "",
    "external": "",
    "host": "",
    "image": "biodepot/kallisto:latest",
    "internal": "",
    "notebookname": "kallisto-sleuth-ky2"
   },
   {
    "Id": 10,
    "command": "bash -c 'parallel-fastq-dump --sra-id SRR493366 SRR493367 SRR493368 SRR493369 SRR493370 SRR493371 --threads 16 --outdir /.nbdocker/kallisto/output --split-files --gzip'",
    "container": "",
    "external": "",
    "host": "",
    "image": "biodepot/parallel-fastq-dump:latest",
    "internal": "",
    "notebookname": "kallisto-sleuth-ky2"
   },
   {
    "Id": 11,
    "command": "bash -c 'parallel-fastq-dump --sra-id SRR493366 SRR493367 SRR493368 SRR493369 SRR493370 SRR493371 --threads 16 --outdir /.nbdocker/kallisto/output --split-files --gzip'",
    "container": "",
    "external": "",
    "host": "",
    "image": "biodepot/parallel-fastq-dump:latest",
    "internal": "",
    "notebookname": "kallisto-sleuth-ky2"
   },
   {
    "Id": 12,
    "command": "bash -c ' mkdir -p /.nbdocker/kallisto/annotation && curl -o /.nbdocker/kallisto/annotation/human_trans.fa.gz http://ftp.ensembl.org/pub/release-77/fasta/homo_sapiens/cdna/Homo_sapiens.GRCh38.cdna.all.fa.gz'",
    "container": "",
    "external": "",
    "host": "",
    "image": "biodepot/alpine-utils:latest",
    "internal": "",
    "notebookname": "kallisto-sleuth-ky2"
   },
   {
    "Id": 13,
    "command": "bash -c 'kallisto index -i /.nbdocker/kallisto/annotation/human_trans.kidx /.nbdocker/kallisto/annotation/human_trans.fa.gz'",
    "container": "",
    "external": "",
    "host": "",
    "image": "biodepot/kallisto:latest",
    "internal": "",
    "notebookname": "kallisto-sleuth-ky2"
   },
   {
    "Id": 14,
    "command": "kallisto quant -i /.nbdocker/kallisto/annotation/human_trans.kidx -b 30 --bias -t 8 -o /.nbdocker/kallisto/SRR493366 /.nbdocker/kallisto/output/SRR493366_1.fastq.gz /.nbdocker/kallisto/output/SRR493366_2.fastq.gz ",
    "container": "",
    "external": "",
    "host": "",
    "image": "biodepot/kallisto:latest",
    "internal": "",
    "notebookname": "kallisto-sleuth-ky2"
   },
   {
    "Id": 15,
    "command": "bash -c 'parallel-fastq-dump --sra-id SRR493366 SRR493367 SRR493368 SRR493369 SRR493370 SRR493371 --threads 16 --outdir /.nbdocker/kallisto/output --split-files --gzip'",
    "container": "",
    "external": "",
    "host": "",
    "image": "biodepot/parallel-fastq-dump:latest",
    "internal": "",
    "notebookname": "kallisto-sleuth-ky2(1)"
   },
   {
    "Id": 16,
    "command": "bash -c 'parallel-fastq-dump --sra-id SRR493366 SRR493367 SRR493368 SRR493369 SRR493370 SRR493371 --threads 16 --outdir /.nbdocker/kallisto/output --split-files --gzip'",
    "container": "",
    "external": "",
    "host": "",
    "image": "biodepot/parallel-fastq-dump:latest",
    "internal": "",
    "notebookname": "kallisto-sleuth-ky2(1)"
   },
   {
    "Id": 17,
    "command": "bash -c 'parallel-fastq-dump --sra-id SRR493366 SRR493367 SRR493368 SRR493369 SRR493370 SRR493371 --threads 16 --outdir /.nbdocker/kallisto/output --split-files --gzip'",
    "container": "",
    "external": "",
    "host": "",
    "image": "biodepot/parallel-fastq-dump:latest",
    "internal": "",
    "notebookname": "kallisto-sleuth-ky2(1)"
   },
   {
    "Id": 18,
    "command": "bash -c ' mkdir -p /.nbdocker/kallisto/annotation && curl -o /.nbdocker/kallisto/annotation/human_trans.fa.gz http://ftp.ensembl.org/pub/release-77/fasta/homo_sapiens/cdna/Homo_sapiens.GRCh38.cdna.all.fa.gz'",
    "container": "",
    "external": "",
    "host": "",
    "image": "biodepot/alpine-utils:latest",
    "internal": "",
    "notebookname": "kallisto-sleuth-ky2(1)"
   },
   {
    "Id": 19,
    "command": "bash -c 'kallisto index -i /.nbdocker/kallisto/annotation/human_trans.kidx /.nbdocker/kallisto/annotation/human_trans.fa.gz'",
    "container": "",
    "external": "",
    "host": "",
    "image": "biodepot/kallisto:latest",
    "internal": "",
    "notebookname": "kallisto-sleuth-ky2(1)"
   },
   {
    "Id": 20,
    "command": "kallisto quant -i /.nbdocker/kallisto/annotation/human_trans.kidx -b 30 --bias -t 8 -o /.nbdocker/kallisto/SRR493366 /.nbdocker/kallisto/output/SRR493366_1.fastq.gz /.nbdocker/kallisto/output/SRR493366_2.fastq.gz ",
    "container": "",
    "external": "",
    "host": "",
    "image": "biodepot/kallisto:latest",
    "internal": "",
    "notebookname": "kallisto-sleuth-ky2(1)"
   },
   {
    "Id": 21,
    "command": "kallisto quant -i /.nbdocker/kallisto/annotation/human_trans.kidx -b 30 --bias -t 8 -o /.nbdocker/kallisto/SRR493367 /.nbdocker/kallisto/output/SRR493367_1.fastq.gz /.nbdocker/kallisto/output/SRR493367_2.fastq.gz ",
    "container": "",
    "external": "",
    "host": "",
    "image": "biodepot/kallisto:latest",
    "internal": "",
    "notebookname": "kallisto-sleuth-ky2(1)"
   },
   {
    "Id": 22,
    "command": "kallisto quant -i /.nbdocker/kallisto/annotation/human_trans.kidx -b 30 --bias -t 8 -o /.nbdocker/kallisto/SRR493368 /.nbdocker/kallisto/output/SRR493368_1.fastq.gz /.nbdocker/kallisto/output/SRR493368_2.fastq.gz ",
    "container": "",
    "external": "",
    "host": "",
    "image": "biodepot/kallisto:latest",
    "internal": "",
    "notebookname": "kallisto-sleuth-ky2(1)"
   },
   {
    "Id": 23,
    "command": "kallisto quant -i /.nbdocker/kallisto/annotation/human_trans.kidx -b 30 --bias -t 8 -o /.nbdocker/kallisto/SRR493369 /.nbdocker/kallisto/output/SRR493369_1.fastq.gz /.nbdocker/kallisto/output/SRR493369_2.fastq.gz ",
    "container": "",
    "external": "",
    "host": "",
    "image": "biodepot/kallisto:latest",
    "internal": "",
    "notebookname": "kallisto-sleuth-ky2(1)"
   },
   {
    "Id": 24,
    "command": "kallisto quant -i /.nbdocker/kallisto/annotation/human_trans.kidx -b 30 --bias -t 8 -o /.nbdocker/kallisto/SRR493370 /.nbdocker/kallisto/output/SRR493370_1.fastq.gz /.nbdocker/kallisto/output/SRR493370_2.fastq.gz ",
    "container": "",
    "external": "",
    "host": "",
    "image": "biodepot/kallisto:latest",
    "internal": "",
    "notebookname": "kallisto-sleuth-ky2(1)"
   },
   {
    "Id": 25,
    "command": "kallisto quant -i /.nbdocker/kallisto/annotation/human_trans.kidx -b 30 --bias -t 8 -o /.nbdocker/kallisto/SRR493371 /.nbdocker/kallisto/output/SRR493371_1.fastq.gz /.nbdocker/kallisto/output/SRR493371_2.fastq.gz ",
    "container": "",
    "external": "",
    "host": "",
    "image": "biodepot/kallisto:latest",
    "internal": "",
    "notebookname": "kallisto-sleuth-ky2(1)"
   },
   {
    "Id": 26,
    "command": "bash -c 'parallel-fastq-dump --sra-id SRR493366 SRR493367 SRR493368 SRR493369 SRR493370 SRR493371 --threads 16 --outdir /.nbdocker/kallisto/output --split-files --gzip'",
    "container": "",
    "external": "",
    "host": "",
    "image": "biodepot/parallel-fastq-dump:latest",
    "internal": "",
    "notebookname": "kallisto-sleuth-workflow"
   },
   {
    "Id": 27,
    "command": "bash -c ' mkdir -p /.nbdocker/kallisto/annotation && curl -o /.nbdocker/kallisto/annotation/human_trans.fa.gz http://ftp.ensembl.org/pub/release-77/fasta/homo_sapiens/cdna/Homo_sapiens.GRCh38.cdna.all.fa.gz'",
    "container": "",
    "external": "",
    "host": "",
    "image": "biodepot/alpine-utils:latest",
    "internal": "",
    "notebookname": "kallisto-sleuth-workflow"
   },
   {
    "Id": 28,
    "command": "bash -c 'kallisto index -i /.nbdocker/kallisto/annotation/human_trans.kidx /.nbdocker/kallisto/annotation/human_trans.fa.gz'",
    "container": "",
    "external": "",
    "host": "",
    "image": "biodepot/kallisto:latest",
    "internal": "",
    "notebookname": "kallisto-sleuth-workflow"
   },
   {
    "Id": 29,
    "command": "kallisto quant -i /.nbdocker/kallisto/annotation/human_trans.kidx -b 30 --bias -t 8 -o /.nbdocker/kallisto/SRR493366 /.nbdocker/kallisto/output/SRR493366_1.fastq.gz /.nbdocker/kallisto/output/SRR493366_2.fastq.gz ",
    "container": "",
    "external": "",
    "host": "",
    "image": "biodepot/kallisto:latest",
    "internal": "",
    "notebookname": "kallisto-sleuth-workflow"
   },
   {
    "Id": 30,
    "command": "kallisto quant -i /.nbdocker/kallisto/annotation/human_trans.kidx -b 30 --bias -t 8 -o /.nbdocker/kallisto/SRR493367 /.nbdocker/kallisto/output/SRR493367_1.fastq.gz /.nbdocker/kallisto/output/SRR493367_2.fastq.gz ",
    "container": "",
    "external": "",
    "host": "",
    "image": "biodepot/kallisto:latest",
    "internal": "",
    "notebookname": "kallisto-sleuth-workflow"
   },
   {
    "Id": 31,
    "command": "kallisto quant -i /.nbdocker/kallisto/annotation/human_trans.kidx -b 30 --bias -t 8 -o /.nbdocker/kallisto/SRR493368 /.nbdocker/kallisto/output/SRR493368_1.fastq.gz /.nbdocker/kallisto/output/SRR493368_2.fastq.gz ",
    "container": "",
    "external": "",
    "host": "",
    "image": "biodepot/kallisto:latest",
    "internal": "",
    "notebookname": "kallisto-sleuth-workflow"
   },
   {
    "Id": 32,
    "command": "kallisto quant -i /.nbdocker/kallisto/annotation/human_trans.kidx -b 30 --bias -t 8 -o /.nbdocker/kallisto/SRR493369 /.nbdocker/kallisto/output/SRR493369_1.fastq.gz /.nbdocker/kallisto/output/SRR493369_2.fastq.gz ",
    "container": "",
    "external": "",
    "host": "",
    "image": "biodepot/kallisto:latest",
    "internal": "",
    "notebookname": "kallisto-sleuth-workflow"
   },
   {
    "Id": 33,
    "command": "kallisto quant -i /.nbdocker/kallisto/annotation/human_trans.kidx -b 30 --bias -t 8 -o /.nbdocker/kallisto/SRR493370 /.nbdocker/kallisto/output/SRR493370_1.fastq.gz /.nbdocker/kallisto/output/SRR493370_2.fastq.gz ",
    "container": "",
    "external": "",
    "host": "",
    "image": "biodepot/kallisto:latest",
    "internal": "",
    "notebookname": "kallisto-sleuth-workflow"
   },
   {
    "Id": 34,
    "command": "kallisto quant -i /.nbdocker/kallisto/annotation/human_trans.kidx -b 30 --bias -t 8 -o /.nbdocker/kallisto/SRR493371 /.nbdocker/kallisto/output/SRR493371_1.fastq.gz /.nbdocker/kallisto/output/SRR493371_2.fastq.gz ",
    "container": "",
    "external": "",
    "host": "",
    "image": "biodepot/kallisto:latest",
    "internal": "",
    "notebookname": "kallisto-sleuth-workflow"
   }
  ],
  "kernelspec": {
   "display_name": "R",
   "language": "R",
   "name": "ir"
  },
  "language_info": {
   "codemirror_mode": "r",
   "file_extension": ".r",
   "mimetype": "text/x-r-source",
   "name": "R",
   "pygments_lexer": "r",
   "version": "3.4.3"
  }
 },
 "nbformat": 4,
 "nbformat_minor": 2
}
